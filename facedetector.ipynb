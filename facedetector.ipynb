{
 "cells": [
  {
   "cell_type": "code",
   "execution_count": 2,
   "id": "97163d55-15d8-4b9b-89a9-99afe39d39ba",
   "metadata": {},
   "outputs": [
    {
     "name": "stdout",
     "output_type": "stream",
     "text": [
      "Collecting opencv-python\n",
      "  Using cached opencv_python-4.9.0.80-cp37-abi3-win_amd64.whl.metadata (20 kB)\n",
      "Collecting numpy>=1.21.2 (from opencv-python)\n",
      "  Downloading numpy-1.26.4-cp311-cp311-win_amd64.whl.metadata (61 kB)\n",
      "     ---------------------------------------- 0.0/61.0 kB ? eta -:--:--\n",
      "     -------------------- ------------------- 30.7/61.0 kB 1.3 MB/s eta 0:00:01\n",
      "     -------------------------------------- 61.0/61.0 kB 806.3 kB/s eta 0:00:00\n",
      "Using cached opencv_python-4.9.0.80-cp37-abi3-win_amd64.whl (38.6 MB)\n",
      "Downloading numpy-1.26.4-cp311-cp311-win_amd64.whl (15.8 MB)\n",
      "   ---------------------------------------- 0.0/15.8 MB ? eta -:--:--\n",
      "   ---------------------------------------- 0.1/15.8 MB 2.6 MB/s eta 0:00:06\n",
      "    --------------------------------------- 0.2/15.8 MB 2.5 MB/s eta 0:00:07\n",
      "   - -------------------------------------- 0.5/15.8 MB 3.7 MB/s eta 0:00:05\n",
      "   -- ------------------------------------- 0.9/15.8 MB 4.6 MB/s eta 0:00:04\n",
      "   --- ------------------------------------ 1.3/15.8 MB 5.6 MB/s eta 0:00:03\n",
      "   ---- ----------------------------------- 1.9/15.8 MB 6.6 MB/s eta 0:00:03\n",
      "   ------ --------------------------------- 2.4/15.8 MB 7.3 MB/s eta 0:00:02\n",
      "   ------- -------------------------------- 2.9/15.8 MB 7.8 MB/s eta 0:00:02\n",
      "   -------- ------------------------------- 3.3/15.8 MB 8.1 MB/s eta 0:00:02\n",
      "   -------- ------------------------------- 3.3/15.8 MB 8.1 MB/s eta 0:00:02\n",
      "   -------- ------------------------------- 3.3/15.8 MB 8.1 MB/s eta 0:00:02\n",
      "   -------- ------------------------------- 3.3/15.8 MB 6.5 MB/s eta 0:00:02\n",
      "   --------- ------------------------------ 3.9/15.8 MB 6.5 MB/s eta 0:00:02\n",
      "   ---------- ----------------------------- 4.2/15.8 MB 6.6 MB/s eta 0:00:02\n",
      "   ----------- ---------------------------- 4.7/15.8 MB 6.9 MB/s eta 0:00:02\n",
      "   ------------- -------------------------- 5.4/15.8 MB 7.1 MB/s eta 0:00:02\n",
      "   ------------- -------------------------- 5.5/15.8 MB 7.3 MB/s eta 0:00:02\n",
      "   ------------- -------------------------- 5.5/15.8 MB 7.3 MB/s eta 0:00:02\n",
      "   ------------- -------------------------- 5.5/15.8 MB 7.3 MB/s eta 0:00:02\n",
      "   --------------- ------------------------ 6.0/15.8 MB 6.5 MB/s eta 0:00:02\n",
      "   ----------------- ---------------------- 6.8/15.8 MB 7.0 MB/s eta 0:00:02\n",
      "   ----------------- ---------------------- 7.0/15.8 MB 6.9 MB/s eta 0:00:02\n",
      "   ------------------ --------------------- 7.4/15.8 MB 7.0 MB/s eta 0:00:02\n",
      "   ------------------- -------------------- 7.7/15.8 MB 6.9 MB/s eta 0:00:02\n",
      "   ------------------- -------------------- 7.7/15.8 MB 6.9 MB/s eta 0:00:02\n",
      "   -------------------- ------------------- 8.1/15.8 MB 6.7 MB/s eta 0:00:02\n",
      "   --------------------- ------------------ 8.4/15.8 MB 6.8 MB/s eta 0:00:02\n",
      "   --------------------- ------------------ 8.6/15.8 MB 6.6 MB/s eta 0:00:02\n",
      "   ----------------------- ---------------- 9.1/15.8 MB 6.8 MB/s eta 0:00:01\n",
      "   ----------------------- ---------------- 9.4/15.8 MB 6.7 MB/s eta 0:00:01\n",
      "   ------------------------ --------------- 9.7/15.8 MB 6.7 MB/s eta 0:00:01\n",
      "   ------------------------- -------------- 9.9/15.8 MB 6.8 MB/s eta 0:00:01\n",
      "   ------------------------- -------------- 10.2/15.8 MB 6.7 MB/s eta 0:00:01\n",
      "   -------------------------- ------------- 10.5/15.8 MB 7.0 MB/s eta 0:00:01\n",
      "   --------------------------- ------------ 10.8/15.8 MB 7.0 MB/s eta 0:00:01\n",
      "   --------------------------- ------------ 11.0/15.8 MB 7.0 MB/s eta 0:00:01\n",
      "   ---------------------------- ----------- 11.3/15.8 MB 6.9 MB/s eta 0:00:01\n",
      "   ----------------------------- ---------- 11.6/15.8 MB 6.7 MB/s eta 0:00:01\n",
      "   ------------------------------ --------- 11.9/15.8 MB 6.7 MB/s eta 0:00:01\n",
      "   ------------------------------ --------- 12.1/15.8 MB 6.5 MB/s eta 0:00:01\n",
      "   ------------------------------ --------- 12.1/15.8 MB 6.5 MB/s eta 0:00:01\n",
      "   -------------------------------- ------- 12.7/15.8 MB 6.4 MB/s eta 0:00:01\n",
      "   -------------------------------- ------- 12.9/15.8 MB 6.3 MB/s eta 0:00:01\n",
      "   --------------------------------- ------ 13.1/15.8 MB 6.2 MB/s eta 0:00:01\n",
      "   --------------------------------- ------ 13.4/15.8 MB 6.1 MB/s eta 0:00:01\n",
      "   ---------------------------------- ----- 13.6/15.8 MB 6.6 MB/s eta 0:00:01\n",
      "   ----------------------------------- ---- 13.9/15.8 MB 6.4 MB/s eta 0:00:01\n",
      "   ----------------------------------- ---- 14.1/15.8 MB 6.3 MB/s eta 0:00:01\n",
      "   ------------------------------------ --- 14.3/15.8 MB 6.4 MB/s eta 0:00:01\n",
      "   ------------------------------------ --- 14.6/15.8 MB 6.3 MB/s eta 0:00:01\n",
      "   ------------------------------------- -- 14.8/15.8 MB 6.2 MB/s eta 0:00:01\n",
      "   -------------------------------------- - 15.0/15.8 MB 6.1 MB/s eta 0:00:01\n",
      "   -------------------------------------- - 15.3/15.8 MB 6.0 MB/s eta 0:00:01\n",
      "   ---------------------------------------  15.5/15.8 MB 5.8 MB/s eta 0:00:01\n",
      "   ---------------------------------------  15.7/15.8 MB 6.4 MB/s eta 0:00:01\n",
      "   ---------------------------------------- 15.8/15.8 MB 6.2 MB/s eta 0:00:00\n",
      "Installing collected packages: numpy, opencv-python\n"
     ]
    },
    {
     "name": "stderr",
     "output_type": "stream",
     "text": [
      "  WARNING: Failed to write executable - trying to use .deleteme logic\n",
      "ERROR: Could not install packages due to an OSError: [WinError 2] The system cannot find the file specified: 'C:\\\\Python311\\\\Scripts\\\\f2py.exe' -> 'C:\\\\Python311\\\\Scripts\\\\f2py.exe.deleteme'\n",
      "\n"
     ]
    }
   ],
   "source": [
    "!pip install opencv-python\n"
   ]
  },
  {
   "cell_type": "code",
   "execution_count": 3,
   "id": "4106099d-7e0d-47f3-8659-fff640d17db2",
   "metadata": {},
   "outputs": [
    {
     "ename": "ModuleNotFoundError",
     "evalue": "No module named 'cv2'",
     "output_type": "error",
     "traceback": [
      "\u001b[1;31m---------------------------------------------------------------------------\u001b[0m",
      "\u001b[1;31mModuleNotFoundError\u001b[0m                       Traceback (most recent call last)",
      "Cell \u001b[1;32mIn[3], line 1\u001b[0m\n\u001b[1;32m----> 1\u001b[0m \u001b[38;5;28;01mimport\u001b[39;00m \u001b[38;5;21;01mcv2\u001b[39;00m\n\u001b[0;32m      2\u001b[0m \u001b[38;5;28;01mimport\u001b[39;00m \u001b[38;5;21;01mrandom\u001b[39;00m\n\u001b[0;32m      4\u001b[0m \u001b[38;5;66;03m# Initialize camera\u001b[39;00m\n",
      "\u001b[1;31mModuleNotFoundError\u001b[0m: No module named 'cv2'"
     ]
    }
   ],
   "source": [
    "import cv2\n",
    "import random\n",
    "\n",
    "# Initialize camera\n",
    "camera = cv2.VideoCapture(0)\n",
    "\n",
    "clf = cv2.CascadeClassifier(cv2.data.haarcascades + \"haarcascade_frontalface_default.xml\")\n",
    "\n",
    "# List of random names// you can add your model labels here\n",
    "random_names = [\"Alice\", \"Bob\", \"Charlie\", \"David\", \"Emma\", \"Frank\", \"Grace\", \"Harry\", \"Ivy\", \"Jack\"]\n",
    "\n",
    "# Function to release the camera and close OpenCV windows\n",
    "def cleanup():\n",
    "    camera.release()\n",
    "    cv2.destroyAllWindows()\n",
    "\n",
    "# Main loop\n",
    "while True:\n",
    "    # Read frame from camera\n",
    "    ret, frame = camera.read()\n",
    "    \n",
    "    # Check if frame was successfully read\n",
    "    if not ret:\n",
    "        print(\"Error: Unable to read frame from camera\")\n",
    "        cleanup()  # Call cleanup function\n",
    "        break\n",
    "    \n",
    "    # Convert frame to grayscale\n",
    "    gray = cv2.cvtColor(frame, cv2.COLOR_BGR2GRAY)\n",
    "    \n",
    "    # Detect faces in the grayscale frame\n",
    "    faces = clf.detectMultiScale(gray, scaleFactor=1.1, minNeighbors=5, minSize=(30, 30))\n",
    "    \n",
    "    # Draw rectangles around the detected faces and add random names\n",
    "    for (x, y, w, h) in faces:\n",
    "        # Draw rectangle around face\n",
    "        cv2.rectangle(frame, (x, y), (x + w, y + h), (255, 0, 0), 2)\n",
    "        \n",
    "        # Generate random name\n",
    "        random_name = random.choice(random_names)\n",
    "        \n",
    "        # Add random name below the face\n",
    "        cv2.putText(frame, random_name, (x, y + h + 20), cv2.FONT_HERSHEY_SIMPLEX, 0.7, (255, 255, 255), 2)\n",
    "    \n",
    "    # Display the frame\n",
    "    cv2.imshow('Face Detection', frame)\n",
    "    \n",
    "    # Check for key press to exit\n",
    "    if cv2.waitKey(1) & 0xFF == ord('q'):\n",
    "        cleanup()  # Call cleanup function\n",
    "        break\n"
   ]
  },
  {
   "cell_type": "code",
   "execution_count": null,
   "id": "681fba62-53ec-48a1-9d0c-575a30c17c0f",
   "metadata": {},
   "outputs": [],
   "source": []
  }
 ],
 "metadata": {
  "kernelspec": {
   "display_name": "Python 3 (ipykernel)",
   "language": "python",
   "name": "python3"
  },
  "language_info": {
   "codemirror_mode": {
    "name": "ipython",
    "version": 3
   },
   "file_extension": ".py",
   "mimetype": "text/x-python",
   "name": "python",
   "nbconvert_exporter": "python",
   "pygments_lexer": "ipython3",
   "version": "3.11.3"
  }
 },
 "nbformat": 4,
 "nbformat_minor": 5
}
